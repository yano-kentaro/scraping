{
 "cells": [
  {
   "cell_type": "code",
   "execution_count": 1,
   "id": "3a77a10b-5805-4afd-80bc-6f2973374b6f",
   "metadata": {},
   "outputs": [
    {
     "name": "stdout",
     "output_type": "stream",
     "text": [
      "x = 6\n",
      "y = 12\n"
     ]
    }
   ],
   "source": [
    "def kansu(a, b):\n",
    "    ans = a * b\n",
    "    return ans\n",
    "\n",
    "\n",
    "x = kansu(2, 3)\n",
    "y = kansu(3, 4)\n",
    "print(f'x = {x}')\n",
    "print(f'y = {y}')\n"
   ]
  },
  {
   "cell_type": "code",
   "execution_count": 2,
   "id": "cb97af64-89be-446c-8f78-0699bcac4f9a",
   "metadata": {},
   "outputs": [
    {
     "name": "stdout",
     "output_type": "stream",
     "text": [
      "Hello, Bob\n",
      "Good bye, Tom\n"
     ]
    }
   ],
   "source": [
    "def say_hello(greeting, name):\n",
    "    print(f'{greeting}, {name}')\n",
    "    \n",
    "say_hello('Hello', 'Bob')\n",
    "say_hello('Good bye', 'Tom')"
   ]
  },
  {
   "cell_type": "code",
   "execution_count": null,
   "id": "d8947b7a-8914-48ca-bec9-cd0ec8b83d0e",
   "metadata": {},
   "outputs": [],
   "source": []
  }
 ],
 "metadata": {
  "kernelspec": {
   "display_name": "Python 3 (ipykernel)",
   "language": "python",
   "name": "python3"
  },
  "language_info": {
   "codemirror_mode": {
    "name": "ipython",
    "version": 3
   },
   "file_extension": ".py",
   "mimetype": "text/x-python",
   "name": "python",
   "nbconvert_exporter": "python",
   "pygments_lexer": "ipython3",
   "version": "3.9.6"
  }
 },
 "nbformat": 4,
 "nbformat_minor": 5
}
